{
 "cells": [
  {
   "cell_type": "code",
   "execution_count": 1,
   "metadata": {},
   "outputs": [
    {
     "name": "stdout",
     "output_type": "stream",
     "text": [
      "Input a > b\n",
      "a: 612\n",
      "b: 342\n",
      " i  |  q  |  d(i)  | d(i + 1) | x(i) | y(i)\n",
      "--------------------------------------------\n",
      "0   | -   | 612    | 342      | 1    | 0   \n",
      "1   | 1.0 | 342    | 270      | 0    | 1   \n",
      "2   | 1.0 | 270    | 72       | 1    | -1  \n",
      "3   | 3.0 | 72     | 54       | -1   | 2   \n",
      "4   | 1.0 | 54     | 18       | 4    | -7  \n",
      "5   | 3.0 | 18     | 0        | -5   | 9   \n",
      "\n",
      "gcd(a,b) = 18, x = -5, y = 9\n"
     ]
    }
   ],
   "source": [
    "# Extended Euclidean Algorithm (EEA)\n",
    "# ax + by = d , where d is gcd(a, b)\n",
    "# x, y - ? \n",
    "\n",
    "def eea(a, b):\n",
    "        # d(0) = a, d(1) = b\n",
    "        x = [1, 0] # d(0) = ax(0) + by(0), d(1) = ax(1) + by(1)\n",
    "        y = [0, 1]\n",
    "        q = ['-'] # quotient \n",
    "        d = [a] #to show table at the end \n",
    "        iter = 0        \n",
    "        while(b != 0):\n",
    "\n",
    "                #for ex: a = 612, b = 342\n",
    "                m = a % b # mod is 270\n",
    "                q.append((a - m) / b) # q = (612 - 270) / 342 = 1\n",
    "                a = b # a = 342\n",
    "                b = m # b = 270\n",
    "\n",
    "                d.append(a)\n",
    "\n",
    "                iter += 1\n",
    "\n",
    "        gcd = a\n",
    "        d.append(b)\n",
    "\n",
    "        for i in range(iter - 1):\n",
    "\n",
    "            x.append(x[i] - x[i + 1] * q[i + 1])\n",
    "\n",
    "            y.append(y[i] - y[i + 1] * q[i + 1])\n",
    "\n",
    "        print(' i  |  q  |  d(i)  | d(i + 1) | x(i) | y(i)')\n",
    "        print('--------------------------------------------')\n",
    "        for i in range(len(x)): \n",
    "\n",
    "            print(\"{: <3} | {: <3} | {: <6.0f} | {: <8.0f} | {: <4.0f} | {: <4.0f}\".format(i, q[i], d[i], d[i+1], x[i], y[i]))\n",
    "\n",
    "        print()\n",
    "        print('gcd(a,b) = {:.0f}, x = {:.0f}, y = {:.0f}'.format(gcd, x[iter], y[iter]))\n",
    "\n",
    "a = 0\n",
    "b = 1\n",
    "\n",
    "while(a < b):    \n",
    "    print('Input a > b')\n",
    "    a = int(input('a: '))\n",
    "    b = int(input('b: '))\n",
    "     \n",
    "eea(a, b)    \n"
   ]
  },
  {
   "cell_type": "code",
   "execution_count": null,
   "metadata": {},
   "outputs": [],
   "source": []
  },
  {
   "cell_type": "code",
   "execution_count": null,
   "metadata": {},
   "outputs": [],
   "source": []
  }
 ],
 "metadata": {
  "kernelspec": {
   "display_name": "Python 3",
   "language": "python",
   "name": "python3"
  },
  "language_info": {
   "codemirror_mode": {
    "name": "ipython",
    "version": 3
   },
   "file_extension": ".py",
   "mimetype": "text/x-python",
   "name": "python",
   "nbconvert_exporter": "python",
   "pygments_lexer": "ipython3",
   "version": "3.7.3"
  }
 },
 "nbformat": 4,
 "nbformat_minor": 2
}
